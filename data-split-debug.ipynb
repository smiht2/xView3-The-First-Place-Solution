{
 "cells": [
  {
   "cell_type": "code",
   "execution_count": 1,
   "metadata": {},
   "outputs": [],
   "source": [
    "# import abc\n",
    "import os\n",
    "# from abc import abstractmethod\n",
    "# from functools import partial\n",
    "# from typing import Tuple\n",
    "\n",
    "import pandas as pd\n",
    "# from sklearn.model_selection import StratifiedGroupKFold\n",
    "# from .base import DatasetSplitter"
   ]
  },
  {
   "cell_type": "code",
   "execution_count": 3,
   "metadata": {},
   "outputs": [],
   "source": [
    "data_dir = '/media/ibrahm/SSD2TB870EV/xViewSARData/xView3dataForWinner'\n",
    "test_df = pd.read_csv(os.path.join(data_dir, \"public.csv\"))\n",
    "# test_df[\"scene_path\"] = test_df[\"scene_id\"].apply(partial(self.append_prefix,folder=''))\n",
    "test_df[\"location\"] = test_df[\"scene_id\"]\n",
    "test_df[\"folder\"] = \"test\"\n",
    "test_path = os.path.join(data_dir,'test')\n",
    "test_scene_avail = [f.name for f in os.scandir(test_path) if f.is_dir()]\n",
    "# "
   ]
  },
  {
   "cell_type": "code",
   "execution_count": 28,
   "metadata": {},
   "outputs": [
    {
     "name": "stdout",
     "output_type": "stream",
     "text": [
      "150 125 149\n",
      "25 ['6e3be36f2c7f8ea5p', '6ce1fd3a685dfb98p', '5f9ed0bd30dcdbafp', '5b44fe761873df4dp', '5af616b150417f93p', '4f1ac44118a7cc96p', '4e4c221dc8fcf51cp', '4c10458c3f418697p', '4c01ad905c337972p', '4b79e501f41ae24bp', '4b44c68f7c8568d1p', '4b1b83716a642acdp', '3f71dc298e5495a3p', '3bf860605432b22cp', '3bc01ebcedc7e328p', '3ac7284f93ea5eebp', '3a0fff47ada3e269p', '2e34969519aa0560p', '2afbfbcc8499a514p', '1c904ce36a05bdddp', '1be38ac46108f3d6p', '0e4184cf9349fd21p', '0e815a40b2fbdc76p', '0d30f9dfc2891b6bp', '0bc18737319f2ce6p']\n"
     ]
    }
   ],
   "source": [
    "num_folds = 6\n",
    "fold = 6\n",
    "test_path = os.path.join(data_dir,'test')\n",
    "# print(test_path)\n",
    "test_scene_avail = [f.name for f in os.scandir(test_path) if f.is_dir()]\n",
    "total_len = len(test_scene_avail)\n",
    "split_len = int(total_len/num_folds)\n",
    "split_end = split_len*fold-1\n",
    "split_start = split_len*(fold-1)\n",
    "print(total_len, split_start,split_end)\n",
    "# print(test_scene_avail)\n",
    "# print(len(test_scene_avail))\n",
    "test_scene_avail = test_scene_avail[split_start:split_end+1]\n",
    "print(len(test_scene_avail),test_scene_avail)\n",
    "test_df = test_df[test_df.scene_id.isin(test_scene_avail)].reset_index(drop=True)\n",
    "# print(test_df)"
   ]
  }
 ],
 "metadata": {
  "kernelspec": {
   "display_name": "xview3",
   "language": "python",
   "name": "python3"
  },
  "language_info": {
   "codemirror_mode": {
    "name": "ipython",
    "version": 3
   },
   "file_extension": ".py",
   "mimetype": "text/x-python",
   "name": "python",
   "nbconvert_exporter": "python",
   "pygments_lexer": "ipython3",
   "version": "3.9.2"
  }
 },
 "nbformat": 4,
 "nbformat_minor": 2
}
