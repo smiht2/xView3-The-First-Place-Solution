{
 "cells": [
  {
   "cell_type": "code",
   "execution_count": 21,
   "metadata": {},
   "outputs": [],
   "source": [
    "import os\n",
    "from functools import partial\n",
    "from multiprocessing import Pool\n",
    "from typing import Optional\n",
    "\n",
    "import cv2\n",
    "import numpy as np\n",
    "import pandas as pd\n",
    "from pytorch_toolbelt.utils import fs\n",
    "from pytorch_toolbelt.utils.distributed import is_main_process\n",
    "from torch import nn\n",
    "from tqdm import tqdm\n",
    "\n",
    "from xview3.centernet.visualization import create_false_color_composite, vis_detections_opencv\n",
    "from xview3.constants import PIX_TO_M\n",
    "from xview3.dataset import read_multichannel_image, SigmoidNormalization, XView3DataModule\n",
    "from xview3.inference import predict_multilabel_scenes\n",
    "from xview3.metric import official_metric_scoring, official_metric_scoring_per_scene\n",
    "from xview3.evaluation import *"
   ]
  },
  {
   "cell_type": "code",
   "execution_count": 22,
   "metadata": {},
   "outputs": [],
   "source": [
    "multi_score_valid_predictions = pd.read_csv('submissions/light10/eval_public_full_light10_step_1536_tta_None/eval_public_full_light10unfiltered_predictions_step_1536_tta_None.csv')\n",
    "thresholds_summary = pd.read_csv('submissions/light10/eval_public_full_light10_step_1536_tta_None/eval_public_full_light10thresholds_summary_step_1536_tta_None.csv')\n",
    "scores_per_scene = pd.read_csv('submissions/light10/eval_public_full_light10_step_1536_tta_None/eval_public_full_light10scores_per_scene_step_1536_tta_None.csv')"
   ]
  },
  {
   "cell_type": "code",
   "execution_count": 23,
   "metadata": {},
   "outputs": [
    {
     "name": "stdout",
     "output_type": "stream",
     "text": [
      "Index(['loc_fscore', 'loc_fscore_shore', 'vessel_fscore', 'fishing_fscore',\n",
      "       'length_acc', 'aggregate', 'is_vessel_threshold',\n",
      "       'is_fishing_threshold', 'objectness_threshold'],\n",
      "      dtype='object')\n",
      "Index(['scene_id', 'global_thresholds_score', 'global_is_vessel_threshold',\n",
      "       'global_is_fishing_threshold', 'local_thresholds_score',\n",
      "       'local_is_vessel_threshold', 'local_is_fishing_threshold'],\n",
      "      dtype='object')\n",
      "Index(['vessel_length_m', 'detect_scene_row', 'detect_scene_column',\n",
      "       'scene_id', 'objectness_p', 'is_vessel_p', 'is_fishing_p',\n",
      "       'objectness_threshold'],\n",
      "      dtype='object')\n"
     ]
    }
   ],
   "source": [
    "# print(multi_score_valid_predictions)\n",
    "print(thresholds_summary.columns)\n",
    "print(scores_per_scene.columns)\n",
    "print(multi_score_valid_predictions.columns)\n"
   ]
  },
  {
   "cell_type": "code",
   "execution_count": 24,
   "metadata": {},
   "outputs": [],
   "source": [
    "objectness_threshold = thresholds_summary.loc[thresholds_summary[\"aggregate\"].idxmax(), \"objectness_threshold\"]\n",
    "vessel_threshold = thresholds_summary.loc[thresholds_summary[\"aggregate\"].idxmax(), \"is_vessel_threshold\"]\n",
    "fishing_threshold = thresholds_summary.loc[thresholds_summary[\"aggregate\"].idxmax(), \"is_fishing_threshold\"]\n",
    "predictions = apply_thresholds(multi_score_valid_predictions, objectness_threshold, vessel_threshold, fishing_threshold)\n"
   ]
  },
  {
   "cell_type": "code",
   "execution_count": 26,
   "metadata": {},
   "outputs": [],
   "source": [
    "predictions.to_csv('submissions/light10/eval_public_full_light10_step_1536_tta_None/final_predictions_light10.csv')"
   ]
  }
 ],
 "metadata": {
  "kernelspec": {
   "display_name": "xview3",
   "language": "python",
   "name": "python3"
  },
  "language_info": {
   "codemirror_mode": {
    "name": "ipython",
    "version": 3
   },
   "file_extension": ".py",
   "mimetype": "text/x-python",
   "name": "python",
   "nbconvert_exporter": "python",
   "pygments_lexer": "ipython3",
   "version": "3.9.2"
  }
 },
 "nbformat": 4,
 "nbformat_minor": 2
}
