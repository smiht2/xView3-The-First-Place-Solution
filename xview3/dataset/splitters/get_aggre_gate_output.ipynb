{
 "cells": [
  {
   "cell_type": "code",
   "execution_count": 3,
   "metadata": {},
   "outputs": [
    {
     "ename": "ModuleNotFoundError",
     "evalue": "No module named 'xview3'",
     "output_type": "error",
     "traceback": [
      "\u001b[0;31m---------------------------------------------------------------------------\u001b[0m",
      "\u001b[0;31mModuleNotFoundError\u001b[0m                       Traceback (most recent call last)",
      "Cell \u001b[0;32mIn[3], line 14\u001b[0m\n\u001b[1;32m     11\u001b[0m \u001b[38;5;28;01mfrom\u001b[39;00m \u001b[38;5;21;01mtorch\u001b[39;00m \u001b[38;5;28;01mimport\u001b[39;00m nn\n\u001b[1;32m     12\u001b[0m \u001b[38;5;28;01mfrom\u001b[39;00m \u001b[38;5;21;01mtqdm\u001b[39;00m \u001b[38;5;28;01mimport\u001b[39;00m tqdm\n\u001b[0;32m---> 14\u001b[0m \u001b[38;5;28;01mfrom\u001b[39;00m \u001b[38;5;21;01mxview3\u001b[39;00m\u001b[38;5;21;01m.\u001b[39;00m\u001b[38;5;21;01mcenternet\u001b[39;00m\u001b[38;5;21;01m.\u001b[39;00m\u001b[38;5;21;01mvisualization\u001b[39;00m \u001b[38;5;28;01mimport\u001b[39;00m create_false_color_composite, vis_detections_opencv\n\u001b[1;32m     15\u001b[0m \u001b[38;5;28;01mfrom\u001b[39;00m \u001b[38;5;21;01mxview3\u001b[39;00m\u001b[38;5;21;01m.\u001b[39;00m\u001b[38;5;21;01mconstants\u001b[39;00m \u001b[38;5;28;01mimport\u001b[39;00m PIX_TO_M\n\u001b[1;32m     16\u001b[0m \u001b[38;5;28;01mfrom\u001b[39;00m \u001b[38;5;21;01mxview3\u001b[39;00m\u001b[38;5;21;01m.\u001b[39;00m\u001b[38;5;21;01mdataset\u001b[39;00m \u001b[38;5;28;01mimport\u001b[39;00m read_multichannel_image, SigmoidNormalization, XView3DataModule\n",
      "\u001b[0;31mModuleNotFoundError\u001b[0m: No module named 'xview3'"
     ]
    }
   ],
   "source": [
    "import os\n",
    "from functools import partial\n",
    "from multiprocessing import Pool\n",
    "from typing import Optional\n",
    "\n",
    "import cv2\n",
    "import numpy as np\n",
    "import pandas as pd\n",
    "from pytorch_toolbelt.utils import fs\n",
    "from pytorch_toolbelt.utils.distributed import is_main_process\n",
    "from torch import nn\n",
    "from tqdm import tqdm\n",
    "\n",
    "from xview3.centernet.visualization import create_false_color_composite, vis_detections_opencv\n",
    "from xview3.constants import PIX_TO_M\n",
    "from xview3.dataset import read_multichannel_image, SigmoidNormalization, XView3DataModule\n",
    "from xview3.inference import predict_multilabel_scenes\n",
    "from xview3.metric import official_metric_scoring, official_metric_scoring_per_scene\n",
    "from xview3.evaluation import *"
   ]
  },
  {
   "cell_type": "code",
   "execution_count": 1,
   "metadata": {},
   "outputs": [
    {
     "ename": "NameError",
     "evalue": "name 'pd' is not defined",
     "output_type": "error",
     "traceback": [
      "\u001b[0;31m---------------------------------------------------------------------------\u001b[0m",
      "\u001b[0;31mNameError\u001b[0m                                 Traceback (most recent call last)",
      "Cell \u001b[0;32mIn[1], line 1\u001b[0m\n\u001b[0;32m----> 1\u001b[0m multi_score_valid_predictions \u001b[38;5;241m=\u001b[39m \u001b[43mpd\u001b[49m\u001b[38;5;241m.\u001b[39mread_csv(\u001b[38;5;124m'\u001b[39m\u001b[38;5;124msubmissions/light11/eval_public_full_light11_step_1536_tta_None/eval_public_full_light11unfiltered_predictions_step_1536_tta_None.csv\u001b[39m\u001b[38;5;124m'\u001b[39m)\n\u001b[1;32m      2\u001b[0m thresholds_summary \u001b[38;5;241m=\u001b[39m pd\u001b[38;5;241m.\u001b[39mread_csv(\u001b[38;5;124m'\u001b[39m\u001b[38;5;124msubmissions/light11/eval_public_full_light11_step_1536_tta_None/eval_public_full_light11thresholds_summary_step_1536_tta_None.csv\u001b[39m\u001b[38;5;124m'\u001b[39m)\n\u001b[1;32m      3\u001b[0m scores_per_scene \u001b[38;5;241m=\u001b[39m pd\u001b[38;5;241m.\u001b[39mread_csv(\u001b[38;5;124m'\u001b[39m\u001b[38;5;124msubmissions/light11/eval_public_full_light11_step_1536_tta_None/eval_public_full_light11scores_per_scene_step_1536_tta_None.csv\u001b[39m\u001b[38;5;124m'\u001b[39m)\n",
      "\u001b[0;31mNameError\u001b[0m: name 'pd' is not defined"
     ]
    }
   ],
   "source": [
    "multi_score_valid_predictions = pd.read_csv('submissions/light11/eval_public_full_light11_step_1536_tta_None/eval_public_full_light11unfiltered_predictions_step_1536_tta_None.csv')\n",
    "thresholds_summary = pd.read_csv('submissions/light11/eval_public_full_light11_step_1536_tta_None/eval_public_full_light11thresholds_summary_step_1536_tta_None.csv')\n",
    "scores_per_scene = pd.read_csv('submissions/light11/eval_public_full_light11_step_1536_tta_None/eval_public_full_light11scores_per_scene_step_1536_tta_None.csv')"
   ]
  },
  {
   "cell_type": "code",
   "execution_count": null,
   "metadata": {},
   "outputs": [],
   "source": [
    "# print(multi_score_valid_predictions)\n",
    "print(thresholds_summary.columns)\n",
    "print(scores_per_scene.columns)\n",
    "print(multi_score_valid_predictions.columns)\n"
   ]
  },
  {
   "cell_type": "code",
   "execution_count": 19,
   "metadata": {},
   "outputs": [],
   "source": [
    "objectness_threshold = thresholds_summary.loc[thresholds_summary[\"aggregate\"].idxmax(), \"objectness_threshold\"]\n",
    "vessel_threshold = thresholds_summary.loc[thresholds_summary[\"aggregate\"].idxmax(), \"is_vessel_threshold\"]\n",
    "fishing_threshold = thresholds_summary.loc[thresholds_summary[\"aggregate\"].idxmax(), \"is_fishing_threshold\"]\n",
    "predictions = apply_thresholds(multi_score_valid_predictions, objectness_threshold, vessel_threshold, fishing_threshold)\n"
   ]
  },
  {
   "cell_type": "code",
   "execution_count": 22,
   "metadata": {},
   "outputs": [],
   "source": [
    "predictions.to_csv('submissions/light01/eval_public_full_light01_step_1536_tta_None/final_predictions_all_scene.csv')"
   ]
  }
 ],
 "metadata": {
  "kernelspec": {
   "display_name": "xview3",
   "language": "python",
   "name": "python3"
  },
  "language_info": {
   "codemirror_mode": {
    "name": "ipython",
    "version": 3
   },
   "file_extension": ".py",
   "mimetype": "text/x-python",
   "name": "python",
   "nbconvert_exporter": "python",
   "pygments_lexer": "ipython3",
   "version": "3.9.2"
  }
 },
 "nbformat": 4,
 "nbformat_minor": 2
}
